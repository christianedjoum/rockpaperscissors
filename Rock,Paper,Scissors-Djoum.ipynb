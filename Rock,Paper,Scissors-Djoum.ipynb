{
 "cells": [
  {
   "cell_type": "code",
   "execution_count": 19,
   "id": "4521cac8",
   "metadata": {},
   "outputs": [
    {
     "name": "stdout",
     "output_type": "stream",
     "text": [
      "rock,paper,scissors: rock\n",
      "It's a draw.\n",
      "do you wish to continue playing(y/n)? y\n",
      "rock,paper,scissors: paper\n",
      "You win!\n",
      "do you wish to continue playing(y/n)? n\n",
      "Thank you for playing!\n"
     ]
    }
   ],
   "source": [
    "import random \n",
    "cont = 'y'\n",
    "\n",
    "while cont == 'y':\n",
    "    choices = ['rock','paper','scissors']\n",
    "    computer_choice = choices[random.randint(0,2)]\n",
    "    user_choice = input('rock,paper,scissors: ')\n",
    "    if user_choice == computer_choice:\n",
    "        print(\"It's a draw.\")\n",
    "    elif (user_choice == 'rock') and (computer_choice == 'scissors'):\n",
    "        print('You win!')\n",
    "    elif (user_choice == 'rock') and (computer_choice == 'paper'):\n",
    "        print('You lose!')\n",
    "    elif (user_choice == 'scissors') and (computer_choice == 'paper'):\n",
    "        print('You win!')\n",
    "    elif (user_choice == 'scissors') and (computer_choice == 'rock'):\n",
    "        print('You lose!')\n",
    "    elif (user_choice == 'paper') and (computer_choice =='rock'):\n",
    "        print('You win!')\n",
    "    else:\n",
    "        print('You lose')\n",
    "    cont = input('do you wish to continue playing(y/n)? ')\n",
    "if cont == 'n':\n",
    "    print(\"Thank you for playing!\")\n"
   ]
  },
  {
   "cell_type": "code",
   "execution_count": null,
   "id": "ee8a189c",
   "metadata": {},
   "outputs": [],
   "source": []
  },
  {
   "cell_type": "code",
   "execution_count": null,
   "id": "5d482ee4",
   "metadata": {},
   "outputs": [],
   "source": []
  }
 ],
 "metadata": {
  "kernelspec": {
   "display_name": "Python 3 (ipykernel)",
   "language": "python",
   "name": "python3"
  },
  "language_info": {
   "codemirror_mode": {
    "name": "ipython",
    "version": 3
   },
   "file_extension": ".py",
   "mimetype": "text/x-python",
   "name": "python",
   "nbconvert_exporter": "python",
   "pygments_lexer": "ipython3",
   "version": "3.9.7"
  }
 },
 "nbformat": 4,
 "nbformat_minor": 5
}
